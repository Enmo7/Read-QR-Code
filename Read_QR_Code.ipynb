{
  "cells": [
    {
      "cell_type": "markdown",
      "metadata": {
        "heading_collapsed": true,
        "id": "R6A7aPDaSZKV"
      },
      "source": [
        "# Install Libraries"
      ]
    },
    {
      "cell_type": "code",
      "execution_count": null,
      "metadata": {
        "colab": {
          "base_uri": "https://localhost:8080/"
        },
        "hidden": true,
        "id": "zsM4IvM-PD-s",
        "outputId": "e0872dc3-305e-4b1f-826a-d11677982cfe"
      },
      "outputs": [
        {
          "name": "stdout",
          "output_type": "stream",
          "text": [
            "Defaulting to user installation because normal site-packages is not writeable\n",
            "Requirement already satisfied: pyzbar in c:\\users\\dell\\appdata\\roaming\\python\\python39\\site-packages (0.1.9)\n"
          ]
        }
      ],
      "source": [
        "!pip install pyzbar"
      ]
    },
    {
      "cell_type": "code",
      "execution_count": null,
      "metadata": {
        "colab": {
          "base_uri": "https://localhost:8080/"
        },
        "hidden": true,
        "id": "0_G6rBP-RoIc",
        "outputId": "59cad99a-b3a4-4509-b50e-de96410a20e3"
      },
      "outputs": [
        {
          "name": "stdout",
          "output_type": "stream",
          "text": [
            "Defaulting to user installation because normal site-packages is not writeable\n",
            "Requirement already satisfied: pyzbar[scripts] in c:\\users\\dell\\appdata\\roaming\\python\\python39\\site-packages (0.1.9)\n",
            "Requirement already satisfied: Pillow>=3.2.0 in c:\\program files\\anaconda\\lib\\site-packages (from pyzbar[scripts]) (9.0.1)\n"
          ]
        }
      ],
      "source": [
        "!pip install pyzbar[scripts]"
      ]
    },
    {
      "cell_type": "code",
      "execution_count": null,
      "metadata": {
        "colab": {
          "base_uri": "https://localhost:8080/"
        },
        "hidden": true,
        "id": "4eBc2sRySh8j",
        "outputId": "ccd7fc0f-48fb-4ceb-9d94-9d760d785967"
      },
      "outputs": [
        {
          "name": "stdout",
          "output_type": "stream",
          "text": [
            "Defaulting to user installation because normal site-packages is not writeable\n",
            "Requirement already satisfied: qrcode in c:\\users\\dell\\appdata\\roaming\\python\\python39\\site-packages (7.4.2)\n",
            "Requirement already satisfied: colorama in c:\\program files\\anaconda\\lib\\site-packages (from qrcode) (0.4.4)\n",
            "Requirement already satisfied: pypng in c:\\users\\dell\\appdata\\roaming\\python\\python39\\site-packages (from qrcode) (0.20220715.0)\n",
            "Requirement already satisfied: typing-extensions in c:\\program files\\anaconda\\lib\\site-packages (from qrcode) (4.1.1)\n"
          ]
        }
      ],
      "source": [
        "!pip install qrcode"
      ]
    },
    {
      "cell_type": "markdown",
      "metadata": {
        "heading_collapsed": true,
        "id": "Eo8rvwGtO5ke"
      },
      "source": [
        "# Libraries"
      ]
    },
    {
      "cell_type": "code",
      "execution_count": null,
      "metadata": {
        "hidden": true,
        "id": "LYpzu22FOk-5"
      },
      "outputs": [],
      "source": [
        "import numpy as np\n",
        "import qrcode\n",
        "import pyzbar\n",
        "from pyzbar.pyzbar import decode as qr_decode\n",
        "import cv2"
      ]
    },
    {
      "cell_type": "markdown",
      "metadata": {
        "heading_collapsed": true,
        "id": "DvS42lf9TGVs"
      },
      "source": [
        "# QR Code Generation"
      ]
    },
    {
      "cell_type": "code",
      "execution_count": null,
      "metadata": {
        "hidden": true,
        "id": "nCWV8xn3Owrv"
      },
      "outputs": [],
      "source": [
        "qr = qrcode.QRCode(version = 1, box_size = 10, border = 5)"
      ]
    },
    {
      "cell_type": "code",
      "execution_count": null,
      "metadata": {
        "hidden": true,
        "id": "MZn0imApTMDs"
      },
      "outputs": [],
      "source": [
        "data = \"Machine learning knowledge\"\n",
        "qr.add_data(data)\n",
        "qr.make(fit = True)"
      ]
    },
    {
      "cell_type": "code",
      "execution_count": null,
      "metadata": {
        "hidden": true,
        "id": "vqYYPLzlTMBl"
      },
      "outputs": [],
      "source": [
        "img = qr.make_image(fill = \"black\" , back_color = \"white\")\n",
        "img.save(\"MLK.png\")"
      ]
    },
    {
      "cell_type": "markdown",
      "metadata": {
        "heading_collapsed": true,
        "id": "NDvbjNZrTWC8"
      },
      "source": [
        "# Decoding QR code Image"
      ]
    },
    {
      "cell_type": "code",
      "execution_count": null,
      "metadata": {
        "hidden": true,
        "id": "dVFIgQulTL_N"
      },
      "outputs": [],
      "source": [
        "img = cv2.imread('MLK.png')"
      ]
    },
    {
      "cell_type": "code",
      "execution_count": null,
      "metadata": {
        "hidden": true,
        "id": "_REFa3nATL80"
      },
      "outputs": [],
      "source": [
        "code = qr_decode(img)"
      ]
    },
    {
      "cell_type": "code",
      "execution_count": null,
      "metadata": {
        "hidden": true,
        "id": "c0dk5DHzTL6c",
        "outputId": "d2faf0b3-cdb8-4f23-d2c5-d8d4d766fdd2"
      },
      "outputs": [
        {
          "name": "stdout",
          "output_type": "stream",
          "text": [
            "[Decoded(data=b'Machine learning knowledge', type='QRCODE', rect=Rect(left=52, top=52, width=247, height=247), polygon=[Point(x=52, y=52), Point(x=52, y=297), Point(x=299, y=299), Point(x=297, y=52)], quality=1, orientation='UP')]\n"
          ]
        }
      ],
      "source": [
        "print(code)"
      ]
    },
    {
      "cell_type": "code",
      "execution_count": null,
      "metadata": {
        "hidden": true,
        "id": "ZbNjVGZkTL39",
        "outputId": "7abd2c9b-f05b-48ee-f181-dcf29b77d1ca"
      },
      "outputs": [
        {
          "name": "stdout",
          "output_type": "stream",
          "text": [
            "b'Machine learning knowledge'\n",
            "Machine learning knowledge\n",
            "Rect(left=52, top=52, width=247, height=247)\n"
          ]
        }
      ],
      "source": [
        "for barcode in code:\n",
        "    print(barcode.data) #in bytes\n",
        "    encoded_text = barcode.data.decode('utf-8') #obtain only the str text\n",
        "    print(encoded_text)\n",
        "    print(barcode.rect)"
      ]
    },
    {
      "cell_type": "markdown",
      "metadata": {
        "heading_collapsed": true,
        "id": "lttD83w8TL1c"
      },
      "source": [
        "# Real-Time QR Code Decoding"
      ]
    },
    {
      "cell_type": "code",
      "execution_count": null,
      "metadata": {
        "hidden": true,
        "id": "Avj26H0_wcuu",
        "outputId": "95e32f6d-ecc9-4e2d-d5c4-9b2536c926f1"
      },
      "outputs": [
        {
          "data": {
            "text/plain": [
              "True"
            ]
          },
          "execution_count": 12,
          "metadata": {},
          "output_type": "execute_result"
        }
      ],
      "source": [
        "#decoding in real-time\n",
        "#scanning QR code from camera feed\n",
        "video = cv2.VideoCapture(0)\n",
        "video.set(3,640) #creating  output window\n",
        "video.set(4,740)"
      ]
    },
    {
      "cell_type": "code",
      "execution_count": null,
      "metadata": {
        "hidden": true,
        "id": "W505xl_awcuu"
      },
      "outputs": [],
      "source": [
        "while True:\n",
        "    success, image = video.read()\n",
        "    for barcode in qr_decode(image):\n",
        "        encoded_text = barcode.data.decode('utf-8')\n",
        "        print(encoded_text)\n",
        "        polygon_points = np.array([barcode.polygon],np.int32)\n",
        "        polygon_points =polygon_points.reshape(-1,1,2)\n",
        "        rect_points = barcode.rect\n",
        "        cv2.polylines(image,[polygon_points],True,(255,255,0),5)\n",
        "        cv2.putText(image,encoded_text,(rect_points[0],rect_points[1]),cv2.FONT_HERSHEY_DUPLEX,0.8,(255,255,0),2)\n",
        "    cv2.imshow(\"Video\",image)\n",
        "    cv2.waitKey(1)"
      ]
    },
    {
      "cell_type": "markdown",
      "metadata": {
        "heading_collapsed": true,
        "id": "bxoBQcZfwcuv"
      },
      "source": [
        "# User Authentication System"
      ]
    },
    {
      "cell_type": "code",
      "execution_count": null,
      "metadata": {
        "hidden": true,
        "id": "OQ0Gbv4Owcuv",
        "outputId": "af6cb030-5b4d-48e5-8488-a57c444f8bb6"
      },
      "outputs": [
        {
          "data": {
            "text/plain": [
              "True"
            ]
          },
          "execution_count": 5,
          "metadata": {},
          "output_type": "execute_result"
        }
      ],
      "source": [
        "# setting up camera feed\n",
        "video = cv2.VideoCapture(0)\n",
        "video.set(3, 640)\n",
        "video.set(4, 740)"
      ]
    },
    {
      "cell_type": "code",
      "execution_count": null,
      "metadata": {
        "hidden": true,
        "id": "cZkjZWedwcuw"
      },
      "outputs": [],
      "source": [
        "while True:\n",
        "    success, image = video.read()\n",
        "    for barcode in qr_decode(image):\n",
        "        qr_text = barcode.data.decode('utf-8')\n",
        "        qr_text = str(qr_text)\n",
        "        if qr_text not in authorised_list:\n",
        "            color = (0, 0, 255)\n",
        "            display_message = \"Denied Access\"\n",
        "        else:\n",
        "            color = (0, 255, 0)\n",
        "            display_message = \"Access Granted\"\n",
        "        polygon_points = np.array([barcode.polygon], np.int32)\n",
        "        polygon_points = polygon_points.reshape(-1, 1, 2)\n",
        "        rect_points = barcode.rect\n",
        "        cv2.polylines(image, [polygon_points], True, color, 3)\n",
        "        cv2.putText(image, display_message, (rect_points[0], rect_points[1]), cv2.FONT_HERSHEY_PLAIN, 0.9, color, 2)\n",
        "    cv2.imshow(\"Video\", image)\n",
        "    cv2.waitKey(1)"
      ]
    }
  ],
  "metadata": {
    "colab": {
      "collapsed_sections": [
        "R6A7aPDaSZKV",
        "Eo8rvwGtO5ke",
        "DvS42lf9TGVs",
        "NDvbjNZrTWC8",
        "lttD83w8TL1c",
        "bxoBQcZfwcuv"
      ],
      "provenance": []
    },
    "kernelspec": {
      "display_name": "Python 3 (ipykernel)",
      "language": "python",
      "name": "python3"
    },
    "language_info": {
      "codemirror_mode": {
        "name": "ipython",
        "version": 3
      },
      "file_extension": ".py",
      "mimetype": "text/x-python",
      "name": "python",
      "nbconvert_exporter": "python",
      "pygments_lexer": "ipython3",
      "version": "3.9.12"
    },
    "nbTranslate": {
      "displayLangs": [
        "*"
      ],
      "hotkey": "alt-t",
      "langInMainMenu": true,
      "sourceLang": "en",
      "targetLang": "fr",
      "useGoogleTranslate": true
    }
  },
  "nbformat": 4,
  "nbformat_minor": 0
}